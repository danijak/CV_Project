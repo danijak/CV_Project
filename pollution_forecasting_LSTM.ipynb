{
  "nbformat": 4,
  "nbformat_minor": 0,
  "metadata": {
    "colab": {
      "name": "pollution_forecasting_LSTM.ipynb",
      "provenance": [],
      "authorship_tag": "ABX9TyOgOXwriIaKb9D2dCAOv3yJ",
      "include_colab_link": true
    },
    "kernelspec": {
      "name": "python3",
      "display_name": "Python 3"
    }
  },
  "cells": [
    {
      "cell_type": "markdown",
      "metadata": {
        "id": "view-in-github",
        "colab_type": "text"
      },
      "source": [
        "<a href=\"https://colab.research.google.com/github/danijak/CV_Project/blob/main/pollution_forecasting_LSTM.ipynb\" target=\"_parent\"><img src=\"https://colab.research.google.com/assets/colab-badge.svg\" alt=\"Open In Colab\"/></a>"
      ]
    },
    {
      "cell_type": "markdown",
      "metadata": {
        "id": "4qM9Kunb_0-g"
      },
      "source": [
        "#LSTM pollution forecasting "
      ]
    },
    {
      "cell_type": "code",
      "metadata": {
        "colab": {
          "base_uri": "https://localhost:8080/"
        },
        "id": "NP6e5R9K_boq",
        "outputId": "7875e91d-7927-4ea4-c26c-50a597d2b8d0"
      },
      "source": [
        "#data loading\r\n",
        "from google.colab import drive\r\n",
        "drive.mount('/content/drive')"
      ],
      "execution_count": 1,
      "outputs": [
        {
          "output_type": "stream",
          "text": [
            "Mounted at /content/drive\n"
          ],
          "name": "stdout"
        }
      ]
    },
    {
      "cell_type": "code",
      "metadata": {
        "colab": {
          "base_uri": "https://localhost:8080/"
        },
        "id": "7e627VUwBjox",
        "outputId": "5ed25f4f-1d53-4da7-93a9-06a2590eb94c"
      },
      "source": [
        "!ls"
      ],
      "execution_count": 2,
      "outputs": [
        {
          "output_type": "stream",
          "text": [
            "drive  sample_data\n"
          ],
          "name": "stdout"
        }
      ]
    },
    {
      "cell_type": "code",
      "metadata": {
        "colab": {
          "base_uri": "https://localhost:8080/"
        },
        "id": "i_TKE1daJJ3P",
        "outputId": "e4a87aa0-c5e9-4973-ff46-b04ac8d53ee4"
      },
      "source": [
        "cd drive/My Drive"
      ],
      "execution_count": 3,
      "outputs": [
        {
          "output_type": "stream",
          "text": [
            "/content/drive/My Drive\n"
          ],
          "name": "stdout"
        }
      ]
    },
    {
      "cell_type": "markdown",
      "metadata": {
        "id": "e9J5yIJnB6Yv"
      },
      "source": [
        "# Dependencies needed"
      ]
    },
    {
      "cell_type": "code",
      "metadata": {
        "id": "t0GHGYhKx7bX"
      },
      "source": [
        "import pandas as pd\r\n",
        "from datetime import datetime\r\n",
        "import matplotlib.pyplot as plt\r\n",
        "from sklearn.preprocessing import LabelEncoder\r\n",
        "from sklearn.preprocessing import MinMaxScaler  \r\n",
        "\r\n"
      ],
      "execution_count": 10,
      "outputs": []
    },
    {
      "cell_type": "markdown",
      "metadata": {
        "id": "BFJVaAlyCiwp"
      },
      "source": [
        "#data processing"
      ]
    },
    {
      "cell_type": "code",
      "metadata": {
        "id": "0v2wj3F7CJHL"
      },
      "source": [
        "def dateformat(x):\r\n",
        "  return datetime.strptime(x, '%Y %m %d %H')\r\n",
        "data=pd.read_csv('pollution_dataset.csv', parse_dates= [['year','month','day','hour']], index_col=0, date_parser=dateformat)"
      ],
      "execution_count": 6,
      "outputs": []
    },
    {
      "cell_type": "code",
      "metadata": {
        "colab": {
          "base_uri": "https://localhost:8080/",
          "height": 235
        },
        "id": "3lxYx2G_CdT4",
        "outputId": "2ac0d29f-2867-4ae0-d447-c731ba5a5768"
      },
      "source": [
        "data.head()\r\n"
      ],
      "execution_count": 7,
      "outputs": [
        {
          "output_type": "execute_result",
          "data": {
            "text/html": [
              "<div>\n",
              "<style scoped>\n",
              "    .dataframe tbody tr th:only-of-type {\n",
              "        vertical-align: middle;\n",
              "    }\n",
              "\n",
              "    .dataframe tbody tr th {\n",
              "        vertical-align: top;\n",
              "    }\n",
              "\n",
              "    .dataframe thead th {\n",
              "        text-align: right;\n",
              "    }\n",
              "</style>\n",
              "<table border=\"1\" class=\"dataframe\">\n",
              "  <thead>\n",
              "    <tr style=\"text-align: right;\">\n",
              "      <th></th>\n",
              "      <th>No</th>\n",
              "      <th>pm2.5</th>\n",
              "      <th>DEWP</th>\n",
              "      <th>TEMP</th>\n",
              "      <th>PRES</th>\n",
              "      <th>cbwd</th>\n",
              "      <th>Iws</th>\n",
              "      <th>Is</th>\n",
              "      <th>Ir</th>\n",
              "    </tr>\n",
              "    <tr>\n",
              "      <th>year_month_day_hour</th>\n",
              "      <th></th>\n",
              "      <th></th>\n",
              "      <th></th>\n",
              "      <th></th>\n",
              "      <th></th>\n",
              "      <th></th>\n",
              "      <th></th>\n",
              "      <th></th>\n",
              "      <th></th>\n",
              "    </tr>\n",
              "  </thead>\n",
              "  <tbody>\n",
              "    <tr>\n",
              "      <th>2010-01-01 00:00:00</th>\n",
              "      <td>1</td>\n",
              "      <td>NaN</td>\n",
              "      <td>-21</td>\n",
              "      <td>-11.0</td>\n",
              "      <td>1021.0</td>\n",
              "      <td>NW</td>\n",
              "      <td>1.79</td>\n",
              "      <td>0</td>\n",
              "      <td>0</td>\n",
              "    </tr>\n",
              "    <tr>\n",
              "      <th>2010-01-01 01:00:00</th>\n",
              "      <td>2</td>\n",
              "      <td>NaN</td>\n",
              "      <td>-21</td>\n",
              "      <td>-12.0</td>\n",
              "      <td>1020.0</td>\n",
              "      <td>NW</td>\n",
              "      <td>4.92</td>\n",
              "      <td>0</td>\n",
              "      <td>0</td>\n",
              "    </tr>\n",
              "    <tr>\n",
              "      <th>2010-01-01 02:00:00</th>\n",
              "      <td>3</td>\n",
              "      <td>NaN</td>\n",
              "      <td>-21</td>\n",
              "      <td>-11.0</td>\n",
              "      <td>1019.0</td>\n",
              "      <td>NW</td>\n",
              "      <td>6.71</td>\n",
              "      <td>0</td>\n",
              "      <td>0</td>\n",
              "    </tr>\n",
              "    <tr>\n",
              "      <th>2010-01-01 03:00:00</th>\n",
              "      <td>4</td>\n",
              "      <td>NaN</td>\n",
              "      <td>-21</td>\n",
              "      <td>-14.0</td>\n",
              "      <td>1019.0</td>\n",
              "      <td>NW</td>\n",
              "      <td>9.84</td>\n",
              "      <td>0</td>\n",
              "      <td>0</td>\n",
              "    </tr>\n",
              "    <tr>\n",
              "      <th>2010-01-01 04:00:00</th>\n",
              "      <td>5</td>\n",
              "      <td>NaN</td>\n",
              "      <td>-20</td>\n",
              "      <td>-12.0</td>\n",
              "      <td>1018.0</td>\n",
              "      <td>NW</td>\n",
              "      <td>12.97</td>\n",
              "      <td>0</td>\n",
              "      <td>0</td>\n",
              "    </tr>\n",
              "  </tbody>\n",
              "</table>\n",
              "</div>"
            ],
            "text/plain": [
              "                     No  pm2.5  DEWP  TEMP    PRES cbwd    Iws  Is  Ir\n",
              "year_month_day_hour                                                   \n",
              "2010-01-01 00:00:00   1    NaN   -21 -11.0  1021.0   NW   1.79   0   0\n",
              "2010-01-01 01:00:00   2    NaN   -21 -12.0  1020.0   NW   4.92   0   0\n",
              "2010-01-01 02:00:00   3    NaN   -21 -11.0  1019.0   NW   6.71   0   0\n",
              "2010-01-01 03:00:00   4    NaN   -21 -14.0  1019.0   NW   9.84   0   0\n",
              "2010-01-01 04:00:00   5    NaN   -20 -12.0  1018.0   NW  12.97   0   0"
            ]
          },
          "metadata": {
            "tags": []
          },
          "execution_count": 7
        }
      ]
    },
    {
      "cell_type": "code",
      "metadata": {
        "colab": {
          "base_uri": "https://localhost:8080/",
          "height": 235
        },
        "id": "SJ7LvtIaCfCA",
        "outputId": "199e7a33-8c48-45f8-dd0d-ebba05e30e8d"
      },
      "source": [
        "# To clean NA from top rows and datetime formatting\r\n",
        "data.drop('No', axis=1, inplace=True)\r\n",
        "data.columns= ['pollution','dew', 'temp', 'pres', 'wind_dir','wind_speed', 'snow', 'rain']\r\n",
        "data.index.name= 'date'\r\n",
        "data=data[24:]\r\n",
        "data['pollution'].fillna(0, inplace=True)\r\n",
        "data.head()\r\n"
      ],
      "execution_count": 8,
      "outputs": [
        {
          "output_type": "execute_result",
          "data": {
            "text/html": [
              "<div>\n",
              "<style scoped>\n",
              "    .dataframe tbody tr th:only-of-type {\n",
              "        vertical-align: middle;\n",
              "    }\n",
              "\n",
              "    .dataframe tbody tr th {\n",
              "        vertical-align: top;\n",
              "    }\n",
              "\n",
              "    .dataframe thead th {\n",
              "        text-align: right;\n",
              "    }\n",
              "</style>\n",
              "<table border=\"1\" class=\"dataframe\">\n",
              "  <thead>\n",
              "    <tr style=\"text-align: right;\">\n",
              "      <th></th>\n",
              "      <th>pollution</th>\n",
              "      <th>dew</th>\n",
              "      <th>temp</th>\n",
              "      <th>pres</th>\n",
              "      <th>wind_dir</th>\n",
              "      <th>wind_speed</th>\n",
              "      <th>snow</th>\n",
              "      <th>rain</th>\n",
              "    </tr>\n",
              "    <tr>\n",
              "      <th>date</th>\n",
              "      <th></th>\n",
              "      <th></th>\n",
              "      <th></th>\n",
              "      <th></th>\n",
              "      <th></th>\n",
              "      <th></th>\n",
              "      <th></th>\n",
              "      <th></th>\n",
              "    </tr>\n",
              "  </thead>\n",
              "  <tbody>\n",
              "    <tr>\n",
              "      <th>2010-01-02 00:00:00</th>\n",
              "      <td>129.0</td>\n",
              "      <td>-16</td>\n",
              "      <td>-4.0</td>\n",
              "      <td>1020.0</td>\n",
              "      <td>SE</td>\n",
              "      <td>1.79</td>\n",
              "      <td>0</td>\n",
              "      <td>0</td>\n",
              "    </tr>\n",
              "    <tr>\n",
              "      <th>2010-01-02 01:00:00</th>\n",
              "      <td>148.0</td>\n",
              "      <td>-15</td>\n",
              "      <td>-4.0</td>\n",
              "      <td>1020.0</td>\n",
              "      <td>SE</td>\n",
              "      <td>2.68</td>\n",
              "      <td>0</td>\n",
              "      <td>0</td>\n",
              "    </tr>\n",
              "    <tr>\n",
              "      <th>2010-01-02 02:00:00</th>\n",
              "      <td>159.0</td>\n",
              "      <td>-11</td>\n",
              "      <td>-5.0</td>\n",
              "      <td>1021.0</td>\n",
              "      <td>SE</td>\n",
              "      <td>3.57</td>\n",
              "      <td>0</td>\n",
              "      <td>0</td>\n",
              "    </tr>\n",
              "    <tr>\n",
              "      <th>2010-01-02 03:00:00</th>\n",
              "      <td>181.0</td>\n",
              "      <td>-7</td>\n",
              "      <td>-5.0</td>\n",
              "      <td>1022.0</td>\n",
              "      <td>SE</td>\n",
              "      <td>5.36</td>\n",
              "      <td>1</td>\n",
              "      <td>0</td>\n",
              "    </tr>\n",
              "    <tr>\n",
              "      <th>2010-01-02 04:00:00</th>\n",
              "      <td>138.0</td>\n",
              "      <td>-7</td>\n",
              "      <td>-5.0</td>\n",
              "      <td>1022.0</td>\n",
              "      <td>SE</td>\n",
              "      <td>6.25</td>\n",
              "      <td>2</td>\n",
              "      <td>0</td>\n",
              "    </tr>\n",
              "  </tbody>\n",
              "</table>\n",
              "</div>"
            ],
            "text/plain": [
              "                     pollution  dew  temp  ...  wind_speed snow  rain\n",
              "date                                       ...                       \n",
              "2010-01-02 00:00:00      129.0  -16  -4.0  ...        1.79    0     0\n",
              "2010-01-02 01:00:00      148.0  -15  -4.0  ...        2.68    0     0\n",
              "2010-01-02 02:00:00      159.0  -11  -5.0  ...        3.57    0     0\n",
              "2010-01-02 03:00:00      181.0   -7  -5.0  ...        5.36    1     0\n",
              "2010-01-02 04:00:00      138.0   -7  -5.0  ...        6.25    2     0\n",
              "\n",
              "[5 rows x 8 columns]"
            ]
          },
          "metadata": {
            "tags": []
          },
          "execution_count": 8
        }
      ]
    },
    {
      "cell_type": "markdown",
      "metadata": {
        "id": "RnnccDc3JsNu"
      },
      "source": [
        "#plottig the data"
      ]
    },
    {
      "cell_type": "code",
      "metadata": {
        "colab": {
          "base_uri": "https://localhost:8080/",
          "height": 268
        },
        "id": "7u2B-J2wHJ9s",
        "outputId": "ce562354-7bce-4ff7-ad4e-dda5709add13"
      },
      "source": [
        "columns = [0,1,2,3,5,6,7]\r\n",
        "i=1\r\n",
        "plt.figure()\r\n",
        "for column in columns:\r\n",
        "  plt.subplot(len(columns), 1, i)\r\n",
        "  plt.plot(data.values[:, column])\r\n",
        "  plt.title(data.columns[column], y= 0.5, loc='right')\r\n",
        "  i+=1\r\n",
        "plt.show()\r\n"
      ],
      "execution_count": 9,
      "outputs": [
        {
          "output_type": "display_data",
          "data": {
            "image/png": "[encoded data removed]",
            "text/plain": [
              "<Figure size 432x288 with 7 Axes>"
            ]
          },
          "metadata": {
            "tags": [],
            "needs_background": "light"
          }
        }
      ]
    },
    {
      "cell_type": "code",
      "metadata": {
        "colab": {
          "base_uri": "https://localhost:8080/",
          "height": 241
        },
        "id": "YqrAC55mMcRc",
        "outputId": "499eee59-9c15-48ee-8439-8602ad6ef0a2"
      },
      "source": [
        "# convert time series to supervised learning\r\n",
        "def series_to_supervised(data, n_in=1, n_out=1, dropnan=True):\r\n",
        "  n_vars= 1 if type(data) is list else data.shape[1]\r\n",
        "  df = pd.DataFrame(data)\r\n",
        "  cols, names = [], []\r\n",
        "  # input sequence (t-n, ... t-1)\r\n",
        "  for i in range(n_in, 0, -1):\r\n",
        "    cols.append(df.shift(i))\r\n",
        "    names += [('var%d(t-%d)' % (j+1, i)) for j in range(n_vars)]\r\n",
        "\t# forecast sequence (t, t+1, ... t+n)\r\n",
        "  for i in range(0, n_out):\r\n",
        "    cols.append(df.shift(-i))\r\n",
        "    if i == 0:\r\n",
        "      names += [('var%d(t)' % (j+1)) for j in range(n_vars)]\r\n",
        "    else:\r\n",
        "     names += [('var%d(t+%d)' % (j+1, i)) for j in range(n_vars)]\r\n",
        "\t# put it all together\r\n",
        "  agg = pd.concat(cols, axis=1)\r\n",
        "  agg.columns = names\r\n",
        "\t# drop rows with NaN values\r\n",
        "  if dropnan:\r\n",
        "   agg.dropna(inplace=True)\r\n",
        "  return agg\r\n",
        " \r\n",
        "values = data.values\r\n",
        "# integer encode direction\r\n",
        "encoder = LabelEncoder()\r\n",
        "values[:,4] = encoder.fit_transform(values[:,4])\r\n",
        "# ensure all data is float\r\n",
        "values = values.astype('float32')\r\n",
        "# normalize features\r\n",
        "scaler = MinMaxScaler(feature_range=(0, 1))\r\n",
        "scaled = scaler.fit_transform(values)\r\n",
        "# frame as supervised learning\r\n",
        "reframed = series_to_supervised(scaled, 1, 1)\r\n",
        "# drop columns we don't want to predict\r\n",
        "reframed.drop(reframed.columns[[9,10,11,12,13,14,15]], axis=1, inplace=True)\r\n",
        "reframed.head()\r\n"
      ],
      "execution_count": 22,
      "outputs": [
        {
          "output_type": "execute_result",
          "data": {
            "text/html": [
              "<div>\n",
              "<style scoped>\n",
              "    .dataframe tbody tr th:only-of-type {\n",
              "        vertical-align: middle;\n",
              "    }\n",
              "\n",
              "    .dataframe tbody tr th {\n",
              "        vertical-align: top;\n",
              "    }\n",
              "\n",
              "    .dataframe thead th {\n",
              "        text-align: right;\n",
              "    }\n",
              "</style>\n",
              "<table border=\"1\" class=\"dataframe\">\n",
              "  <thead>\n",
              "    <tr style=\"text-align: right;\">\n",
              "      <th></th>\n",
              "      <th>var1(t-1)</th>\n",
              "      <th>var2(t-1)</th>\n",
              "      <th>var3(t-1)</th>\n",
              "      <th>var4(t-1)</th>\n",
              "      <th>var5(t-1)</th>\n",
              "      <th>var6(t-1)</th>\n",
              "      <th>var7(t-1)</th>\n",
              "      <th>var8(t-1)</th>\n",
              "      <th>var1(t)</th>\n",
              "    </tr>\n",
              "  </thead>\n",
              "  <tbody>\n",
              "    <tr>\n",
              "      <th>1</th>\n",
              "      <td>0.129779</td>\n",
              "      <td>0.352941</td>\n",
              "      <td>0.245902</td>\n",
              "      <td>0.527273</td>\n",
              "      <td>0.666667</td>\n",
              "      <td>0.002290</td>\n",
              "      <td>0.000000</td>\n",
              "      <td>0.0</td>\n",
              "      <td>0.148893</td>\n",
              "    </tr>\n",
              "    <tr>\n",
              "      <th>2</th>\n",
              "      <td>0.148893</td>\n",
              "      <td>0.367647</td>\n",
              "      <td>0.245902</td>\n",
              "      <td>0.527273</td>\n",
              "      <td>0.666667</td>\n",
              "      <td>0.003811</td>\n",
              "      <td>0.000000</td>\n",
              "      <td>0.0</td>\n",
              "      <td>0.159960</td>\n",
              "    </tr>\n",
              "    <tr>\n",
              "      <th>3</th>\n",
              "      <td>0.159960</td>\n",
              "      <td>0.426471</td>\n",
              "      <td>0.229508</td>\n",
              "      <td>0.545454</td>\n",
              "      <td>0.666667</td>\n",
              "      <td>0.005332</td>\n",
              "      <td>0.000000</td>\n",
              "      <td>0.0</td>\n",
              "      <td>0.182093</td>\n",
              "    </tr>\n",
              "    <tr>\n",
              "      <th>4</th>\n",
              "      <td>0.182093</td>\n",
              "      <td>0.485294</td>\n",
              "      <td>0.229508</td>\n",
              "      <td>0.563637</td>\n",
              "      <td>0.666667</td>\n",
              "      <td>0.008391</td>\n",
              "      <td>0.037037</td>\n",
              "      <td>0.0</td>\n",
              "      <td>0.138833</td>\n",
              "    </tr>\n",
              "    <tr>\n",
              "      <th>5</th>\n",
              "      <td>0.138833</td>\n",
              "      <td>0.485294</td>\n",
              "      <td>0.229508</td>\n",
              "      <td>0.563637</td>\n",
              "      <td>0.666667</td>\n",
              "      <td>0.009912</td>\n",
              "      <td>0.074074</td>\n",
              "      <td>0.0</td>\n",
              "      <td>0.109658</td>\n",
              "    </tr>\n",
              "  </tbody>\n",
              "</table>\n",
              "</div>"
            ],
            "text/plain": [
              "   var1(t-1)  var2(t-1)  var3(t-1)  ...  var7(t-1)  var8(t-1)   var1(t)\n",
              "1   0.129779   0.352941   0.245902  ...   0.000000        0.0  0.148893\n",
              "2   0.148893   0.367647   0.245902  ...   0.000000        0.0  0.159960\n",
              "3   0.159960   0.426471   0.229508  ...   0.000000        0.0  0.182093\n",
              "4   0.182093   0.485294   0.229508  ...   0.037037        0.0  0.138833\n",
              "5   0.138833   0.485294   0.229508  ...   0.074074        0.0  0.109658\n",
              "\n",
              "[5 rows x 9 columns]"
            ]
          },
          "metadata": {
            "tags": []
          },
          "execution_count": 22
        }
      ]
    },
    {
      "cell_type": "code",
      "metadata": {
        "colab": {
          "base_uri": "https://localhost:8080/"
        },
        "id": "iF1UZ56IQ_2w",
        "outputId": "e81cdf80-32ef-46a5-bfe2-8b093de3ea88"
      },
      "source": [
        "# split\r\n",
        "values=reframed.values\r\n",
        "n_train_hours = 4*365*24\r\n",
        "train = values[:n_train_hours, :]\r\n",
        "test = values[n_train_hours:,:]\r\n",
        "train_X, train_y = train[:,:-1], train[:,-1]\r\n",
        "test_X, test_y = test[:,:-1], test[:,-1]\r\n",
        "#format 3d for lstm\r\n",
        "train_X= train_X.reshape((train_X.shape[0],1, train_X.shape[1]))\r\n",
        "test_X = test_X.reshape((test_X.shape[0], 1, test_X.shape[1]))\r\n",
        "print(train_X.shape, train_y.shape, test_X.shape, test_y.shape)\r\n"
      ],
      "execution_count": 24,
      "outputs": [
        {
          "output_type": "stream",
          "text": [
            "(35040, 1, 8) (35040,) (8759, 1, 8) (8759,)\n"
          ],
          "name": "stdout"
        }
      ]
    },
    {
      "cell_type": "code",
      "metadata": {
        "colab": {
          "base_uri": "https://localhost:8080/"
        },
        "id": "tMH23Z_BcmeH",
        "outputId": "7e5aeb66-b4ab-4fba-cef4-ea691bbeac23"
      },
      "source": [
        "# model\r\n",
        "from tensorflow import keras\r\n",
        "model = keras.Sequential()\r\n",
        "model.add(keras.layers.LSTM(50, input_shape=(train_X.shape[1], train_X.shape[2])))\r\n",
        "model.add(keras.layers.Dense(1))\r\n",
        "model.compile(loss='mae', optimizer='adam')\r\n",
        "# fit network\r\n",
        "history = model.fit(train_X, train_y, epochs=50, batch_size=72, validation_data=(test_X, test_y), verbose=2, shuffle=False)"
      ],
      "execution_count": 26,
      "outputs": [
        {
          "output_type": "stream",
          "text": [
            "Epoch 1/50\n",
            "487/487 - 3s - loss: 0.0383 - val_loss: 0.0390\n",
            "Epoch 2/50\n",
            "487/487 - 1s - loss: 0.0145 - val_loss: 0.0175\n",
            "Epoch 3/50\n",
            "487/487 - 1s - loss: 0.0140 - val_loss: 0.0135\n",
            "Epoch 4/50\n",
            "487/487 - 1s - loss: 0.0139 - val_loss: 0.0133\n",
            "Epoch 5/50\n",
            "487/487 - 1s - loss: 0.0139 - val_loss: 0.0133\n",
            "Epoch 6/50\n",
            "487/487 - 1s - loss: 0.0140 - val_loss: 0.0133\n",
            "Epoch 7/50\n",
            "487/487 - 1s - loss: 0.0139 - val_loss: 0.0135\n",
            "Epoch 8/50\n",
            "487/487 - 1s - loss: 0.0139 - val_loss: 0.0138\n",
            "Epoch 9/50\n",
            "487/487 - 1s - loss: 0.0139 - val_loss: 0.0137\n",
            "Epoch 10/50\n",
            "487/487 - 1s - loss: 0.0139 - val_loss: 0.0137\n",
            "Epoch 11/50\n",
            "487/487 - 1s - loss: 0.0139 - val_loss: 0.0137\n",
            "Epoch 12/50\n",
            "487/487 - 1s - loss: 0.0139 - val_loss: 0.0136\n",
            "Epoch 13/50\n",
            "487/487 - 1s - loss: 0.0139 - val_loss: 0.0134\n",
            "Epoch 14/50\n",
            "487/487 - 1s - loss: 0.0138 - val_loss: 0.0136\n",
            "Epoch 15/50\n",
            "487/487 - 1s - loss: 0.0138 - val_loss: 0.0134\n",
            "Epoch 16/50\n",
            "487/487 - 1s - loss: 0.0138 - val_loss: 0.0134\n",
            "Epoch 17/50\n",
            "487/487 - 1s - loss: 0.0138 - val_loss: 0.0133\n",
            "Epoch 18/50\n",
            "487/487 - 1s - loss: 0.0138 - val_loss: 0.0133\n",
            "Epoch 19/50\n",
            "487/487 - 1s - loss: 0.0138 - val_loss: 0.0135\n",
            "Epoch 20/50\n",
            "487/487 - 1s - loss: 0.0138 - val_loss: 0.0135\n",
            "Epoch 21/50\n",
            "487/487 - 1s - loss: 0.0138 - val_loss: 0.0136\n",
            "Epoch 22/50\n",
            "487/487 - 1s - loss: 0.0138 - val_loss: 0.0135\n",
            "Epoch 23/50\n",
            "487/487 - 1s - loss: 0.0137 - val_loss: 0.0136\n",
            "Epoch 24/50\n",
            "487/487 - 1s - loss: 0.0137 - val_loss: 0.0136\n",
            "Epoch 25/50\n",
            "487/487 - 1s - loss: 0.0137 - val_loss: 0.0139\n",
            "Epoch 26/50\n",
            "487/487 - 1s - loss: 0.0137 - val_loss: 0.0142\n",
            "Epoch 27/50\n",
            "487/487 - 1s - loss: 0.0137 - val_loss: 0.0139\n",
            "Epoch 28/50\n",
            "487/487 - 1s - loss: 0.0137 - val_loss: 0.0145\n",
            "Epoch 29/50\n",
            "487/487 - 1s - loss: 0.0137 - val_loss: 0.0138\n",
            "Epoch 30/50\n",
            "487/487 - 1s - loss: 0.0137 - val_loss: 0.0138\n",
            "Epoch 31/50\n",
            "487/487 - 1s - loss: 0.0137 - val_loss: 0.0140\n",
            "Epoch 32/50\n",
            "487/487 - 1s - loss: 0.0137 - val_loss: 0.0138\n",
            "Epoch 33/50\n",
            "487/487 - 1s - loss: 0.0137 - val_loss: 0.0140\n",
            "Epoch 34/50\n",
            "487/487 - 1s - loss: 0.0137 - val_loss: 0.0138\n",
            "Epoch 35/50\n",
            "487/487 - 1s - loss: 0.0137 - val_loss: 0.0147\n",
            "Epoch 36/50\n",
            "487/487 - 1s - loss: 0.0137 - val_loss: 0.0138\n",
            "Epoch 37/50\n",
            "487/487 - 1s - loss: 0.0137 - val_loss: 0.0139\n",
            "Epoch 38/50\n",
            "487/487 - 1s - loss: 0.0137 - val_loss: 0.0141\n",
            "Epoch 39/50\n",
            "487/487 - 1s - loss: 0.0137 - val_loss: 0.0140\n",
            "Epoch 40/50\n",
            "487/487 - 1s - loss: 0.0137 - val_loss: 0.0137\n",
            "Epoch 41/50\n",
            "487/487 - 1s - loss: 0.0137 - val_loss: 0.0138\n",
            "Epoch 42/50\n",
            "487/487 - 1s - loss: 0.0137 - val_loss: 0.0137\n",
            "Epoch 43/50\n",
            "487/487 - 1s - loss: 0.0137 - val_loss: 0.0138\n",
            "Epoch 44/50\n",
            "487/487 - 1s - loss: 0.0137 - val_loss: 0.0138\n",
            "Epoch 45/50\n",
            "487/487 - 1s - loss: 0.0137 - val_loss: 0.0135\n",
            "Epoch 46/50\n",
            "487/487 - 1s - loss: 0.0137 - val_loss: 0.0136\n",
            "Epoch 47/50\n",
            "487/487 - 1s - loss: 0.0137 - val_loss: 0.0137\n",
            "Epoch 48/50\n",
            "487/487 - 1s - loss: 0.0137 - val_loss: 0.0139\n",
            "Epoch 49/50\n",
            "487/487 - 1s - loss: 0.0137 - val_loss: 0.0138\n",
            "Epoch 50/50\n",
            "487/487 - 1s - loss: 0.0137 - val_loss: 0.0138\n"
          ],
          "name": "stdout"
        }
      ]
    },
    {
      "cell_type": "code",
      "metadata": {
        "colab": {
          "base_uri": "https://localhost:8080/",
          "height": 267
        },
        "id": "-uWX25IHdcZh",
        "outputId": "05c7ab04-2003-4a7e-86f8-535c1e6a5767"
      },
      "source": [
        "plt.plot(history.history['loss'], label='train')\r\n",
        "plt.plot(history.history['val_loss'], label='test')\r\n",
        "plt.legend()\r\n",
        "plt.show()"
      ],
      "execution_count": 27,
      "outputs": [
        {
          "output_type": "display_data",
          "data": {
            "image/png": "[encoded data removed]",
            "text/plain": [
              "<Figure size 432x288 with 1 Axes>"
            ]
          },
          "metadata": {
            "tags": [],
            "needs_background": "light"
          }
        }
      ]
    },
    {
      "cell_type": "code",
      "metadata": {
        "id": "wvvYB-2Uihh1"
      },
      "source": [
        "from math import sqrt\r\n",
        "from numpy import concatenate\r\n",
        "from sklearn.metrics import mean_squared_error"
      ],
      "execution_count": 35,
      "outputs": []
    },
    {
      "cell_type": "code",
      "metadata": {
        "colab": {
          "base_uri": "https://localhost:8080/"
        },
        "id": "750-Mf6Yh0OC",
        "outputId": "721587d1-8007-403f-eeeb-7bf27f0bfe41"
      },
      "source": [
        "#predict\r\n",
        "test_X = test_X.reshape((test_X.shape[0],1, test_X.shape[1]))\r\n",
        "yhat = model.predict(test_X)\r\n",
        "test_X = test_X.reshape((test_X.shape[0], test_X.shape[2]))\r\n",
        "# invert scaling for forecast\r\n",
        "inv_yhat = concatenate((yhat, test_X[:, 1:]), axis=1)\r\n",
        "inv_yhat = scaler.inverse_transform(inv_yhat)\r\n",
        "inv_yhat = inv_yhat[:,0]\r\n",
        "# invert scaling for actual\r\n",
        "test_y = test_y.reshape((len(test_y), 1))\r\n",
        "inv_y = concatenate((test_y, test_X[:, 1:]), axis=1)\r\n",
        "inv_y = scaler.inverse_transform(inv_y)\r\n",
        "inv_y = inv_y[:,0]\r\n",
        "# calculate RMSE\r\n",
        "rmse = sqrt(mean_squared_error(inv_y, inv_yhat))\r\n",
        "print('Test RMSE: %.3f' % rmse)"
      ],
      "execution_count": 36,
      "outputs": [
        {
          "output_type": "stream",
          "text": [
            "Test RMSE: 25.460\n"
          ],
          "name": "stdout"
        }
      ]
    },
    {
      "cell_type": "code",
      "metadata": {
        "id": "IZ2gI4hQiSbv"
      },
      "source": [
        ""
      ],
      "execution_count": null,
      "outputs": []
    }
  ]
}